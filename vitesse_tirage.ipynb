{
  "nbformat": 4,
  "nbformat_minor": 0,
  "metadata": {
    "colab": {
      "provenance": [],
      "authorship_tag": "ABX9TyOrInc+tUjX1YNRE93gD/qa",
      "include_colab_link": true
    },
    "kernelspec": {
      "name": "python3",
      "display_name": "Python 3"
    },
    "language_info": {
      "name": "python"
    }
  },
  "cells": [
    {
      "cell_type": "markdown",
      "metadata": {
        "id": "view-in-github",
        "colab_type": "text"
      },
      "source": [
        "<a href=\"https://colab.research.google.com/github/achanhon/AdversarialModel/blob/master/vitesse_tirage.ipynb\" target=\"_parent\"><img src=\"https://colab.research.google.com/assets/colab-badge.svg\" alt=\"Open In Colab\"/></a>"
      ]
    },
    {
      "cell_type": "code",
      "execution_count": 1,
      "metadata": {
        "id": "tIyIxhYKZOIj"
      },
      "outputs": [],
      "source": [
        "import random\n",
        "import torch\n",
        "import time"
      ]
    },
    {
      "cell_type": "code",
      "source": [
        "p = torch.rand(4)*4-2\n",
        "MAX,a = p.max(0)\n",
        "Mean = p.mean()\n",
        "target = 0.9*MAX+0.1*Mean\n",
        "print(p,MAX,Mean,target)"
      ],
      "metadata": {
        "colab": {
          "base_uri": "https://localhost:8080/"
        },
        "id": "Hx2B-xj0ZRte",
        "outputId": "0fb26bca-6435-4979-ef79-60c22d2af7a4"
      },
      "execution_count": 2,
      "outputs": [
        {
          "output_type": "stream",
          "name": "stdout",
          "text": [
            "tensor([ 1.0868,  1.9435, -0.3685, -0.2120]) tensor(1.9435) tensor(0.6125) tensor(1.8104)\n"
          ]
        }
      ]
    },
    {
      "cell_type": "code",
      "source": [
        "T0 = time.time()\n",
        "out = []\n",
        "for _ in range(100000):\n",
        "  if random.random()<0.9:\n",
        "    out.append(int(a))\n",
        "  else:\n",
        "    out.append(int(random.random()*4))\n",
        "T = time.time()\n",
        "print(T-T0)\n",
        "E = [p[i] for i in out]\n",
        "E = sum(E)/len(E)\n",
        "print(E)"
      ],
      "metadata": {
        "colab": {
          "base_uri": "https://localhost:8080/"
        },
        "id": "OGYtSPFEZj_4",
        "outputId": "5ac08efc-3e8e-413b-e4a4-13143734453a"
      },
      "execution_count": 3,
      "outputs": [
        {
          "output_type": "stream",
          "name": "stdout",
          "text": [
            "0.08209848403930664\n",
            "tensor(1.8078)\n"
          ]
        }
      ]
    },
    {
      "cell_type": "code",
      "source": [
        "soft = torch.nn.functional.softmax(p,dim=0)\n",
        "softmean = (p*soft).sum()\n",
        "print(soft,softmean)\n",
        "assert softmean<target\n",
        "\n",
        "# seuil * MAX + (1-seuil)*softmean = target\n",
        "seuil = (target-softmean)/(MAX-softmean)\n",
        "\n",
        "T0 = time.time()\n",
        "out = []\n",
        "for _ in range(100000):\n",
        "  if random.random()<seuil:\n",
        "    out.append(int(a))\n",
        "  else:\n",
        "    out.append(int(torch.multinomial(soft, 1).item()))\n",
        "T = time.time()\n",
        "print(T-T0)\n",
        "E = [p[i] for i in out]\n",
        "E = sum(E)/len(E)\n",
        "print(E)"
      ],
      "metadata": {
        "colab": {
          "base_uri": "https://localhost:8080/"
        },
        "id": "l16iaBARamYL",
        "outputId": "be990492-52f6-4950-a3ec-97979ee41a7d"
      },
      "execution_count": 4,
      "outputs": [
        {
          "output_type": "stream",
          "name": "stdout",
          "text": [
            "tensor([0.2590, 0.6099, 0.0604, 0.0707]) tensor(1.4296)\n",
            "2.0684547424316406\n",
            "tensor(1.8088)\n"
          ]
        }
      ]
    }
  ]
}