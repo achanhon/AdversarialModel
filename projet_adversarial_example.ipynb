{
  "nbformat": 4,
  "nbformat_minor": 0,
  "metadata": {
    "colab": {
      "name": "Untitled5.ipynb",
      "provenance": [],
      "collapsed_sections": [],
      "authorship_tag": "ABX9TyO28HibrmMAWk6P+QbER2gT",
      "include_colab_link": true
    },
    "kernelspec": {
      "name": "python3",
      "display_name": "Python 3"
    }
  },
  "cells": [
    {
      "cell_type": "markdown",
      "metadata": {
        "id": "view-in-github",
        "colab_type": "text"
      },
      "source": [
        "<a href=\"https://colab.research.google.com/github/achanhon/AdversarialModel/blob/master/projet_adversarial_example.ipynb\" target=\"_parent\"><img src=\"https://colab.research.google.com/assets/colab-badge.svg\" alt=\"Open In Colab\"/></a>"
      ]
    },
    {
      "cell_type": "markdown",
      "metadata": {
        "id": "zpj8iTA1-3DD",
        "colab_type": "text"
      },
      "source": [
        "#Projet \"apprentissage par ordinateur et exemples adversaires\"\n",
        "\n",
        "Le projet porte sur un problème d'apprentissage \"simple\" (classification binaire), mais, à travers le prisme des exemples adversaires.\n",
        "\n",
        "Précisément, le projet s'effectue sur les données http://www.nlpr.ia.ac.cn/pal/trafficdata/recognition.html\n",
        "\n",
        "- Ce jeu de données permet de faire de la classification multiclasses, mais, il sera rendu binaire pour plus de simplicité: les 16 premières classes seront regroupés (limitation de vitesse et interdiction de tourner) dans la classe 1, tous les autres paneaux sont regroupés dans la classe 2.\n",
        "\n",
        "- De plus, afin de faciliter le traitement des images, toutes les images seront ramener à des images 96x96.\n",
        "\n",
        "**Mais** l'objectif n'est pas seulement d'apprendre un classifier (binaire) sur ces images 96x96. L'objectif est \n",
        "\n",
        "- de générer des images adversaires pour tromper un tel classifier\n",
        "\n",
        "**ou**\n",
        "\n",
        "- d'apprendre un classifier à la fois \"robuste\" et performant\n"
      ]
    },
    {
      "cell_type": "markdown",
      "metadata": {
        "id": "GODim6LhByA8",
        "colab_type": "text"
      },
      "source": [
        "##prise en main des données\n",
        "\n",
        "Télécharger les données. Le code ci dessous (**CHEMINS VERS LES DONNEES À MODIFIER**) permet de charger les données i.e. transformer cet ensemble d'image en une grosse matrice (Xtrain,Xtest,Ytrain,Ytest)."
      ]
    },
    {
      "cell_type": "code",
      "metadata": {
        "id": "ONZnOvNRCLko",
        "colab_type": "code",
        "colab": {}
      },
      "source": [
        "import csv\n",
        "import numpy as np\n",
        "import PIL\n",
        "import PIL.Image\n",
        "\n",
        "print(\"LOADING DATA\")\n",
        "print(\"rescaling all images at 96x96\")\n",
        "print(\"merging classes in 2 super classes (speed limit and turn interdiction vs all)\")\n",
        "Xtrain = np.zeros((4170,3,96,96),dtype=int)\n",
        "Ytrain = np.zeros(4170,dtype=int)\n",
        "Xtest = np.zeros((1994,3,96,96),dtype=int)\n",
        "Ytest = np.zeros(1994,dtype=int)\n",
        "\n",
        "\n",
        "with open(\"build/TsignRecgTrain4170Annotation.txt\") as f:\n",
        "    reader = csv.reader(f,delimiter=\";\")\n",
        "    \n",
        "    for i,row in enumerate(reader):\n",
        "        image3D = np.asarray(PIL.Image.open(\"build/tsrd-train/\"+row[0]).convert(\"RGB\").copy().resize((96,96)),dtype=float)\n",
        "        Xtrain[i] = np.transpose(image3D,(2,0,1))\n",
        "        if int(row[7])<16:\n",
        "            Ytrain[i] = 0\n",
        "        else:\n",
        "            Ytrain[i] = 1\n",
        "        \n",
        "with open(\"build/TsignRecgTest1994Annotation.txt\") as f:\n",
        "    reader = csv.reader(f,delimiter=\";\")\n",
        "    \n",
        "    for i,row in enumerate(reader):\n",
        "        image3D = np.asarray(PIL.Image.open(\"build/TSRD-Test/\"+row[0]).convert(\"RGB\").copy().resize((96,96)),dtype=float)\n",
        "        Xtest[i] = np.transpose(image3D,(2,0,1))\n",
        "        if int(row[7])<16:\n",
        "            Ytest[i] = 0\n",
        "        else:\n",
        "            Ytest[i] = 1\n",
        "        \n",
        "print(\"nb of samples with class 0/1 in train=\",4170-np.sum(Ytrain),\"/\",np.sum(Ytrain))\n",
        "print(\"nb of samples with class 0/1 in test=\",4170-np.sum(Ytest),\"/\",np.sum(Ytest))"
      ],
      "execution_count": 0,
      "outputs": []
    },
    {
      "cell_type": "markdown",
      "metadata": {
        "id": "0hbuPidyDPRM",
        "colab_type": "text"
      },
      "source": [
        "##référence sur les adversariaux\n",
        "\n"
      ]
    }
  ]
}