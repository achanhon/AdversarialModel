{
  "nbformat": 4,
  "nbformat_minor": 0,
  "metadata": {
    "colab": {
      "name": "Untitled5.ipynb",
      "provenance": [],
      "collapsed_sections": [],
      "authorship_tag": "ABX9TyN1N09ySkns1DWZzZM+2XE+",
      "include_colab_link": true
    },
    "kernelspec": {
      "name": "python3",
      "display_name": "Python 3"
    }
  },
  "cells": [
    {
      "cell_type": "markdown",
      "metadata": {
        "id": "view-in-github",
        "colab_type": "text"
      },
      "source": [
        "<a href=\"https://colab.research.google.com/github/achanhon/AdversarialModel/blob/master/projet_adversarial_example.ipynb\" target=\"_parent\"><img src=\"https://colab.research.google.com/assets/colab-badge.svg\" alt=\"Open In Colab\"/></a>"
      ]
    },
    {
      "cell_type": "markdown",
      "metadata": {
        "id": "zpj8iTA1-3DD",
        "colab_type": "text"
      },
      "source": [
        "#Projet \"apprentissage par ordinateur et exemples adversaires\"\n",
        "\n",
        "Le projet porte sur un problème d'apprentissage \"simple\" (classification binaire), mais, à travers le prisme des exemples adversaires.\n",
        "\n",
        "Précisément, le projet s'effectue sur les données http://www.nlpr.ia.ac.cn/pal/trafficdata/recognition.html\n",
        "\n",
        "- Ce jeu de données permet de faire de la classification multiclasses, mais, il sera rendu binaire pour plus de simplicité: les 16 premières classes seront regroupés (limitation de vitesse et interdiction de tourner) dans la classe 1, tous les autres paneaux sont regroupés dans la classe 2.\n",
        "\n",
        "- De plus, afin de faciliter le traitement des images, toutes les images seront ramener à des images 96x96.\n",
        "\n",
        "**Mais** l'objectif n'est pas seulement d'apprendre un classifier (binaire) sur ces images 96x96. L'objectif est \n",
        "\n",
        "- de générer des images adversaires pour tromper un tel classifier\n",
        "\n",
        "**ou**\n",
        "\n",
        "- d'apprendre un classifier à la fois \"robuste\" et performant\n"
      ]
    },
    {
      "cell_type": "markdown",
      "metadata": {
        "id": "GODim6LhByA8",
        "colab_type": "text"
      },
      "source": [
        "##prise en main des données\n",
        "\n",
        "Télécharger les données. Le code ci dessous (**CHEMINS VERS LES DONNEES À MODIFIER**) permet de charger les données i.e. transformer cet ensemble d'image en une grosse matrice (4 matrices préciséments Xtrain,Xtest,Ytrain,Ytest)."
      ]
    },
    {
      "cell_type": "code",
      "metadata": {
        "id": "ONZnOvNRCLko",
        "colab_type": "code",
        "colab": {}
      },
      "source": [
        "import csv\n",
        "import numpy as np\n",
        "import PIL\n",
        "import PIL.Image\n",
        "\n",
        "print(\"LOADING DATA\")\n",
        "print(\"rescaling all images at 96x96\")\n",
        "print(\"merging classes in 2 super classes (speed limit and turn interdiction vs all)\")\n",
        "Xtrain = np.zeros((4170,3,96,96),dtype=int)\n",
        "Ytrain = np.zeros(4170,dtype=int)\n",
        "Xtest = np.zeros((1994,3,96,96),dtype=int)\n",
        "Ytest = np.zeros(1994,dtype=int)\n",
        "\n",
        "\n",
        "with open(\"build/TsignRecgTrain4170Annotation.txt\") as f:\n",
        "    reader = csv.reader(f,delimiter=\";\")\n",
        "    \n",
        "    for i,row in enumerate(reader):\n",
        "        image3D = np.asarray(PIL.Image.open(\"build/tsrd-train/\"+row[0]).convert(\"RGB\").copy().resize((96,96)),dtype=float)\n",
        "        Xtrain[i] = np.transpose(image3D,(2,0,1))\n",
        "        if int(row[7])<16:\n",
        "            Ytrain[i] = 0\n",
        "        else:\n",
        "            Ytrain[i] = 1\n",
        "        \n",
        "with open(\"build/TsignRecgTest1994Annotation.txt\") as f:\n",
        "    reader = csv.reader(f,delimiter=\";\")\n",
        "    \n",
        "    for i,row in enumerate(reader):\n",
        "        image3D = np.asarray(PIL.Image.open(\"build/TSRD-Test/\"+row[0]).convert(\"RGB\").copy().resize((96,96)),dtype=float)\n",
        "        Xtest[i] = np.transpose(image3D,(2,0,1))\n",
        "        if int(row[7])<16:\n",
        "            Ytest[i] = 0\n",
        "        else:\n",
        "            Ytest[i] = 1\n",
        "        \n",
        "print(\"nb of samples with class 0/1 in train=\",4170-np.sum(Ytrain),\"/\",np.sum(Ytrain))\n",
        "print(\"nb of samples with class 0/1 in test=\",4170-np.sum(Ytest),\"/\",np.sum(Ytest))"
      ],
      "execution_count": 0,
      "outputs": []
    },
    {
      "cell_type": "markdown",
      "metadata": {
        "id": "0hbuPidyDPRM",
        "colab_type": "text"
      },
      "source": [
        "##référence sur les adversariaux\n",
        "\n",
        "Indépendamment, voilà quelques liens vers des articles de référence sur les adversariaux\n",
        "\n",
        "* Une introduction au problème des adversariaux : www.tensorflow.org/tutorials/generative/adversarial_fgsm\n",
        "* L'article correspondant arxiv.org/abs/1412.6572\n",
        "\n",
        "Du coté de la méthode de référence de \"protection\" contre les adversariaux\n",
        "* apprendre sur des données adversaires limites leur effet arxiv.org/abs/1710.10571\n",
        "* apprendre sur la pire données adversaires possibles permet d'avoir une robustesse certaines arxiv.org/abs/1711.00851\n",
        "\n",
        "**Important** : générer des données adversaires est très simple quand on a accès au gradient vis à vis de l'image elle même (typiquement si le modèle est du deep learning). Mais c'est possible aussi en approximant le gradient d'un modèle non deep : arxiv.org/pdf/1602.02697.pdf !"
      ]
    },
    {
      "cell_type": "markdown",
      "metadata": {
        "id": "SGSf8XnpLDtr",
        "colab_type": "text"
      },
      "source": [
        "##Maintenant à vous de jouer !"
      ]
    }
  ]
}