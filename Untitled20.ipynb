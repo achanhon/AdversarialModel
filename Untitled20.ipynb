{
  "nbformat": 4,
  "nbformat_minor": 0,
  "metadata": {
    "colab": {
      "provenance": [],
      "authorship_tag": "ABX9TyPFfIdG0MxZXchMaE3u3S1k",
      "include_colab_link": true
    },
    "kernelspec": {
      "name": "python3",
      "display_name": "Python 3"
    },
    "language_info": {
      "name": "python"
    }
  },
  "cells": [
    {
      "cell_type": "markdown",
      "metadata": {
        "id": "view-in-github",
        "colab_type": "text"
      },
      "source": [
        "<a href=\"https://colab.research.google.com/github/achanhon/AdversarialModel/blob/master/Untitled20.ipynb\" target=\"_parent\"><img src=\"https://colab.research.google.com/assets/colab-badge.svg\" alt=\"Open In Colab\"/></a>"
      ]
    },
    {
      "cell_type": "markdown",
      "source": [
        "##quantification\n",
        "L'objectif de ce notebook est d'essayer d'effectuer un apprentissage float32 propice à être caster en int8.\n",
        "Pour cela, une loss supplémentaire sur les poids (forcés à être près d'un entier) et l'utilisation d'une double activation relu + \"cyclique\".\n",
        "\n",
        "Ce test préliminaire est réalisé sur CIFAR10.\n",
        "\n",
        "### baseline"
      ],
      "metadata": {
        "id": "hfkvfsm8D6yR"
      }
    },
    {
      "cell_type": "code",
      "execution_count": null,
      "metadata": {
        "id": "NcrhY_AzD5Qh"
      },
      "outputs": [],
      "source": [
        "import torch\n",
        "import torchvision\n",
        "\n",
        "def cycle(x):\n",
        "    x = torch.nn.functional.relu(x)\n",
        "    x = x%128\n",
        "    return x - 2 * torch.nn.functional.relu(x-64)\n",
        "\n",
        "class Baseline(torch.nn.Module):\n",
        "    def __init__(self):\n",
        "        super(Baseline, self).__init__()\n",
        "        self.c11 = torch.nn.Conv2d(3, 16,kernel_size=3,padding=1)\n",
        "        self.c12 = torch.nn.Conv2d(16, 16,kernel_size=3,padding=1)\n",
        "        self.c21 = torch.nn.Conv2d(32, 32,kernel_size=3,padding=1)\n",
        "        self.c22 = torch.nn.Conv2d(64, 64,kernel_size=3,padding=1)\n",
        "        self.c31 = torch.nn.Conv2d(128, 128,kernel_size=3,padding=1)\n",
        "        self.c32 = torch.nn.Conv2d(256, 256,kernel_size=3,padding=1)\n",
        "        self.f1 = torch.nn.Conv2d(256, 512,kernel_size=1)\n",
        "        self.f2 = torch.nn.Conv2d(512, 1024,kernel_size=1)\n",
        "        self.f = torch.nn.Conv2d(1024,10,kernel_size=1)\n",
        "\n",
        "    def forward(self, x):\n",
        "        x = cycle(self.c11(x))\n",
        "        x2 = cycle(self.c12(x))\n",
        "        x2 = torch.cat([x,x2],dim=1)\n",
        "        x2 = torch.nn.functional.max_pool2d(x2,kernel_size=2,stride=2)\n",
        "        x = cycle(self.c21(x2))\n",
        "        x = torch.cat([x2,x],dim=1)\n",
        "        x2 = cycle(self.c22(x))\n",
        "        x2 = torch.cat([x2,x],dim=1)\n",
        "        x2 = torch.nn.functional.max_pool2d(x2,kernel_size=2,stride=2)\n",
        "        x = cycle(self.c31(x2))\n",
        "        x = torch.cat([x2,x],dim=1)\n",
        "        x = cycle(self.c32(x))\n",
        "\n",
        "        x = torch.nn.functional.max_pool2d(x,kernel_size=8,stride=8)\n",
        "        x = cycle(self.f1(x))\n",
        "        x = cycle(self.f2(x))\n",
        "        x = self.f3(x)\n",
        "\n",
        "\n",
        "\n",
        "\n",
        "        x = self.fc2(x)\n",
        "        return x"
      ]
    }
  ]
}