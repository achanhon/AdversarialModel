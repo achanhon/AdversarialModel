{
  "nbformat": 4,
  "nbformat_minor": 0,
  "metadata": {
    "colab": {
      "provenance": [],
      "authorship_tag": "ABX9TyOErY6frfH5Ex8A3OdwXdxj",
      "include_colab_link": true
    },
    "kernelspec": {
      "name": "python3",
      "display_name": "Python 3"
    },
    "language_info": {
      "name": "python"
    }
  },
  "cells": [
    {
      "cell_type": "markdown",
      "metadata": {
        "id": "view-in-github",
        "colab_type": "text"
      },
      "source": [
        "<a href=\"https://colab.research.google.com/github/achanhon/AdversarialModel/blob/master/Untitled21.ipynb\" target=\"_parent\"><img src=\"https://colab.research.google.com/assets/colab-badge.svg\" alt=\"Open In Colab\"/></a>"
      ]
    },
    {
      "cell_type": "markdown",
      "source": [
        "### extraction de points d'intérêt\n",
        "\n",
        "Il existe déjà des modèles qui vont extraire de façon non supervisée des points d'intérêt dans des images comme DinoV2.\n",
        "\n",
        "On cherche ici à réaliser cette tache de façon explicite.\n",
        "\n",
        "-> on prend une image\n",
        "-> on crée une carte de features\n",
        "-> on voudrait que la classif se comporte \"aussi bien\" avec soit la carte de feature entière, soit k points seulement\n",
        "\n",
        "(ça peut être vit mais pas forcément)"
      ],
      "metadata": {
        "id": "qYmSevCp3VjW"
      }
    },
    {
      "cell_type": "code",
      "execution_count": null,
      "metadata": {
        "id": "Oos5ycG23Ux7"
      },
      "outputs": [],
      "source": [
        "import torch\n",
        "import time\n",
        "import torchvision\n",
        "import matplotlib.pyplot as plt"
      ]
    },
    {
      "cell_type": "code",
      "source": [
        "class KeypointSelector(torch.nn.Module):\n",
        "    def __init__(self):\n",
        "        super(KeypointSelector, self).__init__()\n",
        "        self.encoder = torchvision.models.efficientnet_v2_s(weights=\"DEFAULT\").features\n",
        "        del self.encoder[3:]\n",
        "\n",
        "        self.projector = torch.nn.Conv2d(48,128,kernel_size=1)\n",
        "\n",
        "        self.rawclassif1 = torch.nn.Conv2d(128,4096,kernel_size=8)\n",
        "        self.rawclassif2 = torch.nn.Linear(4096,10)\n",
        "\n",
        "        self.selector1 = torch.nn.Conv2d(128,256,kernel_size=3,padding=1)\n",
        "        self.selector2 = torch.nn.Conv2d(128,1,kernel_size=1)\n",
        "\n",
        "        self.softclassif1 = torch.nn.Conv2d(128,4096,kernel_size=8)\n",
        "        self.softclassif2 = torch.nn.Linear(4096,10)\n",
        "\n",
        "        self.K = 4\n",
        "        self.fineclassif1 = torch.nn.Conv2d(512,4096,kernel_size=1)\n",
        "        self.fineclassif2 = torch.nn.Conv2d(4096,10,kernel_size=1)\n",
        "\n",
        "\n",
        "\n",
        "    def forward(self,x):\n",
        "        with torch.no_grad():\n",
        "            f = self.encoder((x-0.5)*2)\n",
        "        f = torch.nn.leaky_relu(self.projector(f))\n",
        "\n",
        "        praw = torch.nn.leaky_relu(self.rawclassif1(f))\n",
        "        praw = self.rawclassif2(praw)\n",
        "\n",
        "        heatmap = torch.nn.leaky_relu(self.selector1(f))\n",
        "        heatmap = torch.nn.leaky_relu(self.selector2(heatmap))\n",
        "\n",
        "        soft,_ = heatmap.flatten(1).max(1)\n",
        "        soft = heatmap/(soft+1)\n",
        "\n",
        "        psoft = torch.nn.leaky_relu(self.softclassif1(f*soft))\n",
        "        psoft = self.softclassif2(psoft)\n",
        "\n",
        "        val,I = torch.topk( heatmap.flatten(1), self.k, dim=1)\n",
        "\n",
        "        subf = torch.zeros(x.shape[0],128,self.k).cuda()\n",
        "        for i in range(self.k):\n",
        "            subf[:,:,i] = f[:,:,I[:,i]]\n",
        "\n",
        "        subf = subf.flatten(1)\n",
        "        pfine = torch.nn.leaky_relu(self.rawclassif1(subf))\n",
        "        pfine = self.rawclassif2(pfine)\n",
        "\n",
        "        with torch.no_grad():\n",
        "            val = val[:,-1].view(x.shape[0],1,1,1)\n",
        "            heatmap = torch.nn.functional.interpolate(heatmap,(x.shape[2],x.shape[3]),mode=\"bilinear\")\n",
        "            maskedinput = x.clone() * (heatmap>val)\n",
        "\n",
        "        return praw,psoft, pfine,maskedinput"
      ],
      "metadata": {
        "id": "nzBEteUL4o6M"
      },
      "execution_count": null,
      "outputs": []
    },
    {
      "cell_type": "code",
      "source": [
        "trainset = torchvision.datasets.CIFAR10(\n",
        "    root=\"build\",\n",
        "    train=True,\n",
        "    download=True,\n",
        "    transform=torchvision.transforms.ToTensor(),\n",
        ")\n",
        "trainloader = torch.utils.data.DataLoader(\n",
        "    trainset, batch_size=128, shuffle=True, num_workers=2\n",
        ")\n",
        "\n",
        "testset = torchvision.datasets.CIFAR10(\n",
        "    root=\"build\",\n",
        "    train=False,\n",
        "    download=True,\n",
        "    transform=torchvision.transforms.ToTensor(),\n",
        ")\n",
        "testloader = torch.utils.data.DataLoader(\n",
        "    testset, batch_size=128, shuffle=True, num_workers=2\n",
        ")\n"
      ],
      "metadata": {
        "id": "ogUioOi17-2f",
        "colab": {
          "base_uri": "https://localhost:8080/"
        },
        "outputId": "65f805e1-1954-4110-9175-b400eca4cb59"
      },
      "execution_count": null,
      "outputs": [
        {
          "output_type": "stream",
          "name": "stdout",
          "text": [
            "Files already downloaded and verified\n",
            "Files already downloaded and verified\n"
          ]
        }
      ]
    },
    {
      "cell_type": "code",
      "source": [
        "net = KeypointSelector()\n",
        "net = net.cuda()\n",
        "criterion = torch.nn.CrossEntropyLoss()\n",
        "optimizer = torch.optim.Adam(net.parameters(), lr=0.001)\n",
        "meanloss = []\n",
        "nb,nbOK = 0,0\n",
        "for i in range(60):\n",
        "    print(\"######\",i,\"######\")\n",
        "    for x,y in trainloader:\n",
        "        praw,psoft,pfine,_ = net(x.cuda())\n",
        "        loss = criterion(praw,y.cuda().long())*0.25+criterion(psoft,y.cuda().long())*0.25+criterion(pfine,y.cuda().long())*0.5\n",
        "\n",
        "        optimizer.zero_grad()\n",
        "        loss.backward()\n",
        "        optimizer.step()\n",
        "        net.normalize()\n",
        "\n",
        "        floss = float(loss)\n",
        "        meanloss.append(floss)\n",
        "        _,z = pfine.max(1)\n",
        "        good = (y.cuda()==z).float()\n",
        "        nb+=good.shape[0]\n",
        "        nbOK+=good.sum().cpu().numpy()\n",
        "        if len(meanloss)==100:\n",
        "            print(sum(meanloss)/100, nbOK/nb)\n",
        "            meanloss=[]\n",
        "\n",
        "    with torch.no_grad():\n",
        "        for x,y in trainloader:\n",
        "            _,_,z,_ = net(x.cuda())\n",
        "            _,z = z.max(1)\n",
        "            good = (y.cuda()==z).float()\n",
        "            nb+=good.shape[0]\n",
        "            nbOK+=good.sum().cpu().numpy()\n",
        "        print(\"eval :\",nbOK/nb)"
      ],
      "metadata": {
        "colab": {
          "base_uri": "https://localhost:8080/"
        },
        "id": "XsSmPjPy6kDA",
        "outputId": "34e04729-6474-4343-e68e-1156f166f144"
      },
      "execution_count": null,
      "outputs": [
        {
          "output_type": "stream",
          "name": "stdout",
          "text": [
            "torch.Size([128, 48, 8, 8])\n"
          ]
        }
      ]
    },
    {
      "cell_type": "code",
      "source": [
        "t0 = time.time()\n",
        "with torch.no_grad():\n",
        "    for x,y in trainloader:\n",
        "        _,_,z,visu = net(x.cuda())\n",
        "        _,z = z.max(1)\n",
        "        good = (y.cuda()==z).float()\n",
        "        nb+=good.shape[0]\n",
        "        nbOK+=good.sum().cpu().numpy()\n",
        "    print(\"eval :\",nbOK/nb,time.time()-t0)\n",
        "\n",
        "    visu1 = torchvision.utils.make_grid(x[0:32], nrow=8)\n",
        "    visu2 = torchvision.utils.make_grid(visu[0:32], nrow=8)\n",
        "    visu = torch.cat([visu1,visu2],dim=-1)\n",
        "\n",
        "    visu = visu.cpu().numpy().transpose(1,2,0)\n",
        "    plt.imshow(visu)\n",
        "    plt.axis('off')\n",
        "    plt.show()"
      ],
      "metadata": {
        "id": "kx5PaSzsDFXk"
      },
      "execution_count": null,
      "outputs": []
    }
  ]
}